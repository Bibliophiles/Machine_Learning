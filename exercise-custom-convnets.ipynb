{
 "cells": [
  {
   "cell_type": "markdown",
   "id": "01a07fff",
   "metadata": {
    "papermill": {
     "duration": 0.003436,
     "end_time": "2024-12-08T22:26:43.335765",
     "exception": false,
     "start_time": "2024-12-08T22:26:43.332329",
     "status": "completed"
    },
    "tags": []
   },
   "source": [
    "**This notebook is an exercise in the [Computer Vision](https://www.kaggle.com/learn/computer-vision) course.  You can reference the tutorial at [this link](https://www.kaggle.com/ryanholbrook/custom-convnets).**\n",
    "\n",
    "---\n"
   ]
  },
  {
   "cell_type": "markdown",
   "id": "bb6d5f21",
   "metadata": {
    "papermill": {
     "duration": 0.002649,
     "end_time": "2024-12-08T22:26:43.341577",
     "exception": false,
     "start_time": "2024-12-08T22:26:43.338928",
     "status": "completed"
    },
    "tags": []
   },
   "source": [
    "# Introduction #\n",
    "\n",
    "In these exercises, you'll build a custom convnet with performance competitive to the VGG16 model from Lesson 1.\n",
    "\n",
    "Get started by running the code cell below."
   ]
  },
  {
   "cell_type": "code",
   "execution_count": 1,
   "id": "0a36e387",
   "metadata": {
    "execution": {
     "iopub.execute_input": "2024-12-08T22:26:43.349462Z",
     "iopub.status.busy": "2024-12-08T22:26:43.348558Z",
     "iopub.status.idle": "2024-12-08T22:27:08.476594Z",
     "shell.execute_reply": "2024-12-08T22:27:08.475906Z"
    },
    "papermill": {
     "duration": 25.134245,
     "end_time": "2024-12-08T22:27:08.478620",
     "exception": false,
     "start_time": "2024-12-08T22:26:43.344375",
     "status": "completed"
    },
    "tags": []
   },
   "outputs": [
    {
     "name": "stderr",
     "output_type": "stream",
     "text": [
      "2024-12-08 22:26:45.850998: E external/local_xla/xla/stream_executor/cuda/cuda_dnn.cc:9261] Unable to register cuDNN factory: Attempting to register factory for plugin cuDNN when one has already been registered\n",
      "2024-12-08 22:26:45.851119: E external/local_xla/xla/stream_executor/cuda/cuda_fft.cc:607] Unable to register cuFFT factory: Attempting to register factory for plugin cuFFT when one has already been registered\n",
      "2024-12-08 22:26:45.988204: E external/local_xla/xla/stream_executor/cuda/cuda_blas.cc:1515] Unable to register cuBLAS factory: Attempting to register factory for plugin cuBLAS when one has already been registered\n"
     ]
    },
    {
     "name": "stdout",
     "output_type": "stream",
     "text": [
      "Found 5117 files belonging to 2 classes.\n",
      "Found 5051 files belonging to 2 classes.\n"
     ]
    }
   ],
   "source": [
    "# Setup feedback system\n",
    "from learntools.core import binder\n",
    "binder.bind(globals())\n",
    "from learntools.computer_vision.ex5 import *\n",
    "\n",
    "# Imports\n",
    "import os, warnings\n",
    "import matplotlib.pyplot as plt\n",
    "from matplotlib import gridspec\n",
    "\n",
    "import numpy as np\n",
    "import tensorflow as tf\n",
    "from tensorflow.keras.preprocessing import image_dataset_from_directory\n",
    "\n",
    "# Reproducability\n",
    "def set_seed(seed=31415):\n",
    "    np.random.seed(seed)\n",
    "    tf.random.set_seed(seed)\n",
    "    os.environ['PYTHONHASHSEED'] = str(seed)\n",
    "    os.environ['TF_DETERMINISTIC_OPS'] = '1'\n",
    "set_seed()\n",
    "\n",
    "# Set Matplotlib defaults\n",
    "plt.rc('figure', autolayout=True)\n",
    "plt.rc('axes', labelweight='bold', labelsize='large',\n",
    "       titleweight='bold', titlesize=18, titlepad=10)\n",
    "plt.rc('image', cmap='magma')\n",
    "warnings.filterwarnings(\"ignore\") # to clean up output cells\n",
    "\n",
    "\n",
    "# Load training and validation sets\n",
    "ds_train_ = image_dataset_from_directory(\n",
    "    '../input/car-or-truck/train',\n",
    "    labels='inferred',\n",
    "    label_mode='binary',\n",
    "    image_size=[128, 128],\n",
    "    interpolation='nearest',\n",
    "    batch_size=64,\n",
    "    shuffle=True,\n",
    ")\n",
    "ds_valid_ = image_dataset_from_directory(\n",
    "    '../input/car-or-truck/valid',\n",
    "    labels='inferred',\n",
    "    label_mode='binary',\n",
    "    image_size=[128, 128],\n",
    "    interpolation='nearest',\n",
    "    batch_size=64,\n",
    "    shuffle=False,\n",
    ")\n",
    "\n",
    "# Data Pipeline\n",
    "def convert_to_float(image, label):\n",
    "    image = tf.image.convert_image_dtype(image, dtype=tf.float32)\n",
    "    return image, label\n",
    "\n",
    "AUTOTUNE = tf.data.experimental.AUTOTUNE\n",
    "ds_train = (\n",
    "    ds_train_\n",
    "    .map(convert_to_float)\n",
    "    .cache()\n",
    "    .prefetch(buffer_size=AUTOTUNE)\n",
    ")\n",
    "ds_valid = (\n",
    "    ds_valid_\n",
    "    .map(convert_to_float)\n",
    "    .cache()\n",
    "    .prefetch(buffer_size=AUTOTUNE)\n",
    ")\n"
   ]
  },
  {
   "cell_type": "markdown",
   "id": "c19424a1",
   "metadata": {
    "papermill": {
     "duration": 0.002921,
     "end_time": "2024-12-08T22:27:08.485025",
     "exception": false,
     "start_time": "2024-12-08T22:27:08.482104",
     "status": "completed"
    },
    "tags": []
   },
   "source": [
    "# Design a Convnet #\n",
    "\n",
    "Let's design a convolutional network with a block architecture like we saw in the tutorial. The model from the example had three blocks, each with a single convolutional layer. Its performance on the \"Car or Truck\" problem was okay, but far from what the pretrained VGG16 could achieve. It might be that our simple network lacks the ability to extract sufficiently complex features. We could try improving the model either by adding more blocks or by adding convolutions to the blocks we have.\n",
    "\n",
    "Let's go with the second approach. We'll keep the three block structure, but increase the number of `Conv2D` layer in the second block to two, and in the third block to three.\n",
    "\n",
    "<figure>\n",
    "<!-- <img src=\"./images/2-convmodel-2.png\" width=\"250\" alt=\"Diagram of a convolutional model.\"> -->\n",
    "<img src=\"https://storage.googleapis.com/kaggle-media/learn/images/Vko6nCK.png\" width=\"250\" alt=\"Diagram of a convolutional model.\">\n",
    "</figure>\n",
    "\n",
    "# 1) Define Model #\n",
    "\n",
    "Given the diagram above, complete the model by defining the layers of the third block."
   ]
  },
  {
   "cell_type": "code",
   "execution_count": 2,
   "id": "6e85cd17",
   "metadata": {
    "execution": {
     "iopub.execute_input": "2024-12-08T22:27:08.492276Z",
     "iopub.status.busy": "2024-12-08T22:27:08.491999Z",
     "iopub.status.idle": "2024-12-08T22:27:08.632037Z",
     "shell.execute_reply": "2024-12-08T22:27:08.631190Z"
    },
    "lines_to_next_cell": 0,
    "papermill": {
     "duration": 0.14562,
     "end_time": "2024-12-08T22:27:08.633631",
     "exception": false,
     "start_time": "2024-12-08T22:27:08.488011",
     "status": "completed"
    },
    "tags": []
   },
   "outputs": [
    {
     "data": {
      "application/javascript": [
       "parent.postMessage({\"jupyterEvent\": \"custom.exercise_interaction\", \"data\": {\"outcomeType\": 1, \"valueTowardsCompletion\": 0.3333333333333333, \"interactionType\": 1, \"questionType\": 2, \"questionId\": \"1_Q1\", \"learnToolsVersion\": \"0.3.4\", \"failureMessage\": \"\", \"exceptionClass\": \"\", \"trace\": \"\"}}, \"*\")"
      ],
      "text/plain": [
       "<IPython.core.display.Javascript object>"
      ]
     },
     "metadata": {},
     "output_type": "display_data"
    },
    {
     "data": {
      "text/markdown": [
       "<span style=\"color:#33cc33\">Correct</span>"
      ],
      "text/plain": [
       "Correct"
      ]
     },
     "metadata": {},
     "output_type": "display_data"
    }
   ],
   "source": [
    "from tensorflow import keras\n",
    "from tensorflow.keras import layers\n",
    "\n",
    "model = keras.Sequential([\n",
    "    # Block One\n",
    "    layers.Conv2D(filters=32, kernel_size=3, activation='relu', padding='same',\n",
    "                  input_shape=[128, 128, 3]),\n",
    "    layers.MaxPool2D(),\n",
    "\n",
    "    # Block Two\n",
    "    layers.Conv2D(filters=64, kernel_size=3, activation='relu', padding='same'),\n",
    "    layers.MaxPool2D(),\n",
    "\n",
    "    # Block Three\n",
    "    # YOUR CODE HERE\n",
    "    layers.Conv2D(filters=128, kernel_size=3, activation='relu', padding='same'),\n",
    "    layers.Conv2D(filters=128, kernel_size=3, activation='relu', padding='same'),\n",
    "    layers.MaxPool2D(),\n",
    "\n",
    "    # Head\n",
    "    layers.Flatten(),\n",
    "    layers.Dense(6, activation='relu'),\n",
    "    layers.Dropout(0.2),\n",
    "    layers.Dense(1, activation='sigmoid'),\n",
    "])\n",
    "\n",
    "# Check your answer\n",
    "q_1.check()"
   ]
  },
  {
   "cell_type": "code",
   "execution_count": 3,
   "id": "872cdbf4",
   "metadata": {
    "execution": {
     "iopub.execute_input": "2024-12-08T22:27:08.642352Z",
     "iopub.status.busy": "2024-12-08T22:27:08.641803Z",
     "iopub.status.idle": "2024-12-08T22:27:08.645302Z",
     "shell.execute_reply": "2024-12-08T22:27:08.644501Z"
    },
    "papermill": {
     "duration": 0.008976,
     "end_time": "2024-12-08T22:27:08.646797",
     "exception": false,
     "start_time": "2024-12-08T22:27:08.637821",
     "status": "completed"
    },
    "tags": []
   },
   "outputs": [],
   "source": [
    "# Lines below will give you a hint or solution code\n",
    "#q_1.hint()\n",
    "#q_1.solution()"
   ]
  },
  {
   "cell_type": "markdown",
   "id": "3020c987",
   "metadata": {
    "papermill": {
     "duration": 0.003109,
     "end_time": "2024-12-08T22:27:08.653128",
     "exception": false,
     "start_time": "2024-12-08T22:27:08.650019",
     "status": "completed"
    },
    "tags": []
   },
   "source": [
    "# 2) Compile #\n",
    "\n",
    "To prepare for training, compile the model with an appropriate loss and accuracy metric for the \"Car or Truck\" dataset."
   ]
  },
  {
   "cell_type": "code",
   "execution_count": 4,
   "id": "7ea87769",
   "metadata": {
    "execution": {
     "iopub.execute_input": "2024-12-08T22:27:08.661002Z",
     "iopub.status.busy": "2024-12-08T22:27:08.660361Z",
     "iopub.status.idle": "2024-12-08T22:27:08.869293Z",
     "shell.execute_reply": "2024-12-08T22:27:08.868440Z"
    },
    "lines_to_next_cell": 0,
    "papermill": {
     "duration": 0.215097,
     "end_time": "2024-12-08T22:27:08.871476",
     "exception": false,
     "start_time": "2024-12-08T22:27:08.656379",
     "status": "completed"
    },
    "tags": []
   },
   "outputs": [
    {
     "data": {
      "application/javascript": [
       "parent.postMessage({\"jupyterEvent\": \"custom.exercise_interaction\", \"data\": {\"outcomeType\": 1, \"valueTowardsCompletion\": 0.3333333333333333, \"interactionType\": 1, \"questionType\": 2, \"questionId\": \"2_Q2\", \"learnToolsVersion\": \"0.3.4\", \"failureMessage\": \"\", \"exceptionClass\": \"\", \"trace\": \"\"}}, \"*\")"
      ],
      "text/plain": [
       "<IPython.core.display.Javascript object>"
      ]
     },
     "metadata": {},
     "output_type": "display_data"
    },
    {
     "data": {
      "text/markdown": [
       "<span style=\"color:#33cc33\">Correct</span>"
      ],
      "text/plain": [
       "Correct"
      ]
     },
     "metadata": {},
     "output_type": "display_data"
    }
   ],
   "source": [
    "model.compile(\n",
    "    optimizer=tf.keras.optimizers.Adam(epsilon=0.01),\n",
    "    # YOUR CODE HERE: Add loss and metric\n",
    "    loss = 'binary_crossentropy',\n",
    "    metrics=['binary_accuracy']\n",
    ")\n",
    "\n",
    "# Check your answer\n",
    "q_2.check()"
   ]
  },
  {
   "cell_type": "code",
   "execution_count": 5,
   "id": "c9198e9a",
   "metadata": {
    "execution": {
     "iopub.execute_input": "2024-12-08T22:27:08.880049Z",
     "iopub.status.busy": "2024-12-08T22:27:08.879515Z",
     "iopub.status.idle": "2024-12-08T22:27:08.892054Z",
     "shell.execute_reply": "2024-12-08T22:27:08.891249Z"
    },
    "lines_to_next_cell": 0,
    "papermill": {
     "duration": 0.01839,
     "end_time": "2024-12-08T22:27:08.893561",
     "exception": false,
     "start_time": "2024-12-08T22:27:08.875171",
     "status": "completed"
    },
    "tags": []
   },
   "outputs": [
    {
     "data": {
      "application/javascript": [
       "parent.postMessage({\"jupyterEvent\": \"custom.exercise_interaction\", \"data\": {\"outcomeType\": 1, \"valueTowardsCompletion\": 0.3333333333333333, \"interactionType\": 1, \"questionType\": 2, \"questionId\": \"2_Q2\", \"learnToolsVersion\": \"0.3.4\", \"failureMessage\": \"\", \"exceptionClass\": \"\", \"trace\": \"\"}}, \"*\")"
      ],
      "text/plain": [
       "<IPython.core.display.Javascript object>"
      ]
     },
     "metadata": {},
     "output_type": "display_data"
    },
    {
     "data": {
      "text/markdown": [
       "<span style=\"color:#33cc33\">Correct</span>"
      ],
      "text/plain": [
       "Correct"
      ]
     },
     "metadata": {},
     "output_type": "display_data"
    }
   ],
   "source": [
    "model.compile(\n",
    "    optimizer=tf.keras.optimizers.Adam(epsilon=0.01),\n",
    "    loss='binary_crossentropy',\n",
    "    metrics=['binary_accuracy'],\n",
    ")\n",
    "q_2.assert_check_passed()"
   ]
  },
  {
   "cell_type": "code",
   "execution_count": 6,
   "id": "55014789",
   "metadata": {
    "execution": {
     "iopub.execute_input": "2024-12-08T22:27:08.902114Z",
     "iopub.status.busy": "2024-12-08T22:27:08.901536Z",
     "iopub.status.idle": "2024-12-08T22:27:08.904628Z",
     "shell.execute_reply": "2024-12-08T22:27:08.903929Z"
    },
    "lines_to_next_cell": 0,
    "papermill": {
     "duration": 0.00889,
     "end_time": "2024-12-08T22:27:08.906180",
     "exception": false,
     "start_time": "2024-12-08T22:27:08.897290",
     "status": "completed"
    },
    "tags": []
   },
   "outputs": [],
   "source": [
    "# Lines below will give you a hint or solution code\n",
    "#q_2.hint()\n",
    "#q_2.solution()"
   ]
  },
  {
   "cell_type": "markdown",
   "id": "a6da36dc",
   "metadata": {
    "papermill": {
     "duration": 0.003473,
     "end_time": "2024-12-08T22:27:08.913441",
     "exception": false,
     "start_time": "2024-12-08T22:27:08.909968",
     "status": "completed"
    },
    "tags": []
   },
   "source": [
    "Finally, let's test the performance of this new model. First run this cell to fit the model to the training set."
   ]
  },
  {
   "cell_type": "code",
   "execution_count": 7,
   "id": "ea5d08df",
   "metadata": {
    "execution": {
     "iopub.execute_input": "2024-12-08T22:27:08.923384Z",
     "iopub.status.busy": "2024-12-08T22:27:08.922642Z",
     "iopub.status.idle": "2024-12-08T22:30:03.376552Z",
     "shell.execute_reply": "2024-12-08T22:30:03.375628Z"
    },
    "papermill": {
     "duration": 174.461487,
     "end_time": "2024-12-08T22:30:03.378470",
     "exception": false,
     "start_time": "2024-12-08T22:27:08.916983",
     "status": "completed"
    },
    "tags": []
   },
   "outputs": [
    {
     "name": "stdout",
     "output_type": "stream",
     "text": [
      "Epoch 1/50\n"
     ]
    },
    {
     "name": "stderr",
     "output_type": "stream",
     "text": [
      "WARNING: All log messages before absl::InitializeLog() is called are written to STDERR\n",
      "I0000 00:00:1733696833.009248      72 device_compiler.h:186] Compiled cluster using XLA!  This line is logged at most once for the lifetime of the process.\n"
     ]
    },
    {
     "name": "stdout",
     "output_type": "stream",
     "text": [
      "80/80 [==============================] - 17s 145ms/step - loss: 0.6846 - binary_accuracy: 0.5662 - val_loss: 0.6794 - val_binary_accuracy: 0.5785\n",
      "Epoch 2/50\n",
      "80/80 [==============================] - 3s 40ms/step - loss: 0.6747 - binary_accuracy: 0.5787 - val_loss: 0.6676 - val_binary_accuracy: 0.5785\n",
      "Epoch 3/50\n",
      "80/80 [==============================] - 3s 40ms/step - loss: 0.6683 - binary_accuracy: 0.5787 - val_loss: 0.6640 - val_binary_accuracy: 0.5785\n",
      "Epoch 4/50\n",
      "80/80 [==============================] - 3s 40ms/step - loss: 0.6663 - binary_accuracy: 0.5787 - val_loss: 0.6578 - val_binary_accuracy: 0.5785\n",
      "Epoch 5/50\n",
      "80/80 [==============================] - 3s 40ms/step - loss: 0.6635 - binary_accuracy: 0.5787 - val_loss: 0.6529 - val_binary_accuracy: 0.5785\n",
      "Epoch 6/50\n",
      "80/80 [==============================] - 3s 40ms/step - loss: 0.6554 - binary_accuracy: 0.5787 - val_loss: 0.6474 - val_binary_accuracy: 0.5785\n",
      "Epoch 7/50\n",
      "80/80 [==============================] - 3s 40ms/step - loss: 0.6500 - binary_accuracy: 0.5787 - val_loss: 0.6430 - val_binary_accuracy: 0.5785\n",
      "Epoch 8/50\n",
      "80/80 [==============================] - 3s 40ms/step - loss: 0.6485 - binary_accuracy: 0.5789 - val_loss: 0.6392 - val_binary_accuracy: 0.5783\n",
      "Epoch 9/50\n",
      "80/80 [==============================] - 3s 41ms/step - loss: 0.6484 - binary_accuracy: 0.5976 - val_loss: 0.6422 - val_binary_accuracy: 0.6325\n",
      "Epoch 10/50\n",
      "80/80 [==============================] - 3s 40ms/step - loss: 0.6363 - binary_accuracy: 0.6279 - val_loss: 0.6214 - val_binary_accuracy: 0.6482\n",
      "Epoch 11/50\n",
      "80/80 [==============================] - 3s 40ms/step - loss: 0.6308 - binary_accuracy: 0.6381 - val_loss: 0.6156 - val_binary_accuracy: 0.6551\n",
      "Epoch 12/50\n",
      "80/80 [==============================] - 3s 40ms/step - loss: 0.6246 - binary_accuracy: 0.6463 - val_loss: 0.6081 - val_binary_accuracy: 0.6708\n",
      "Epoch 13/50\n",
      "80/80 [==============================] - 3s 40ms/step - loss: 0.6154 - binary_accuracy: 0.6510 - val_loss: 0.5977 - val_binary_accuracy: 0.6765\n",
      "Epoch 14/50\n",
      "80/80 [==============================] - 3s 40ms/step - loss: 0.5998 - binary_accuracy: 0.6717 - val_loss: 0.5995 - val_binary_accuracy: 0.6694\n",
      "Epoch 15/50\n",
      "80/80 [==============================] - 3s 41ms/step - loss: 0.5952 - binary_accuracy: 0.6701 - val_loss: 0.5879 - val_binary_accuracy: 0.6900\n",
      "Epoch 16/50\n",
      "80/80 [==============================] - 3s 40ms/step - loss: 0.5894 - binary_accuracy: 0.6805 - val_loss: 0.5822 - val_binary_accuracy: 0.6884\n",
      "Epoch 17/50\n",
      "80/80 [==============================] - 3s 40ms/step - loss: 0.5742 - binary_accuracy: 0.6916 - val_loss: 0.5638 - val_binary_accuracy: 0.7084\n",
      "Epoch 18/50\n",
      "80/80 [==============================] - 3s 40ms/step - loss: 0.5577 - binary_accuracy: 0.7043 - val_loss: 0.5504 - val_binary_accuracy: 0.7208\n",
      "Epoch 19/50\n",
      "80/80 [==============================] - 3s 40ms/step - loss: 0.5441 - binary_accuracy: 0.7119 - val_loss: 0.5399 - val_binary_accuracy: 0.7284\n",
      "Epoch 20/50\n",
      "80/80 [==============================] - 3s 40ms/step - loss: 0.5282 - binary_accuracy: 0.7229 - val_loss: 0.5217 - val_binary_accuracy: 0.7416\n",
      "Epoch 21/50\n",
      "80/80 [==============================] - 3s 40ms/step - loss: 0.5143 - binary_accuracy: 0.7264 - val_loss: 0.5185 - val_binary_accuracy: 0.7442\n",
      "Epoch 22/50\n",
      "80/80 [==============================] - 3s 40ms/step - loss: 0.4963 - binary_accuracy: 0.7479 - val_loss: 0.4936 - val_binary_accuracy: 0.7606\n",
      "Epoch 23/50\n",
      "80/80 [==============================] - 3s 40ms/step - loss: 0.4778 - binary_accuracy: 0.7545 - val_loss: 0.4705 - val_binary_accuracy: 0.7696\n",
      "Epoch 24/50\n",
      "80/80 [==============================] - 3s 40ms/step - loss: 0.4447 - binary_accuracy: 0.7839 - val_loss: 0.4687 - val_binary_accuracy: 0.7737\n",
      "Epoch 25/50\n",
      "80/80 [==============================] - 3s 40ms/step - loss: 0.4257 - binary_accuracy: 0.7905 - val_loss: 0.4551 - val_binary_accuracy: 0.7864\n",
      "Epoch 26/50\n",
      "80/80 [==============================] - 3s 40ms/step - loss: 0.4117 - binary_accuracy: 0.8098 - val_loss: 0.4433 - val_binary_accuracy: 0.7965\n",
      "Epoch 27/50\n",
      "80/80 [==============================] - 3s 40ms/step - loss: 0.3780 - binary_accuracy: 0.8270 - val_loss: 0.4274 - val_binary_accuracy: 0.8022\n",
      "Epoch 28/50\n",
      "80/80 [==============================] - 3s 40ms/step - loss: 0.3533 - binary_accuracy: 0.8415 - val_loss: 0.4365 - val_binary_accuracy: 0.8040\n",
      "Epoch 29/50\n",
      "80/80 [==============================] - 3s 40ms/step - loss: 0.3369 - binary_accuracy: 0.8460 - val_loss: 0.4448 - val_binary_accuracy: 0.7959\n",
      "Epoch 30/50\n",
      "80/80 [==============================] - 3s 40ms/step - loss: 0.3299 - binary_accuracy: 0.8589 - val_loss: 0.5389 - val_binary_accuracy: 0.7761\n",
      "Epoch 31/50\n",
      "80/80 [==============================] - 3s 40ms/step - loss: 0.3051 - binary_accuracy: 0.8628 - val_loss: 0.4658 - val_binary_accuracy: 0.7965\n",
      "Epoch 32/50\n",
      "80/80 [==============================] - 3s 40ms/step - loss: 0.2940 - binary_accuracy: 0.8732 - val_loss: 0.4200 - val_binary_accuracy: 0.8179\n",
      "Epoch 33/50\n",
      "80/80 [==============================] - 3s 40ms/step - loss: 0.2855 - binary_accuracy: 0.8706 - val_loss: 0.4079 - val_binary_accuracy: 0.8173\n",
      "Epoch 34/50\n",
      "80/80 [==============================] - 3s 40ms/step - loss: 0.2935 - binary_accuracy: 0.8622 - val_loss: 0.3936 - val_binary_accuracy: 0.8192\n",
      "Epoch 35/50\n",
      "80/80 [==============================] - 3s 40ms/step - loss: 0.2468 - binary_accuracy: 0.8966 - val_loss: 0.4412 - val_binary_accuracy: 0.8216\n",
      "Epoch 36/50\n",
      "80/80 [==============================] - 3s 40ms/step - loss: 0.2394 - binary_accuracy: 0.8939 - val_loss: 0.4563 - val_binary_accuracy: 0.8238\n",
      "Epoch 37/50\n",
      "80/80 [==============================] - 3s 40ms/step - loss: 0.2504 - binary_accuracy: 0.8820 - val_loss: 0.5004 - val_binary_accuracy: 0.8234\n",
      "Epoch 38/50\n",
      "80/80 [==============================] - 3s 40ms/step - loss: 0.2353 - binary_accuracy: 0.8927 - val_loss: 0.4830 - val_binary_accuracy: 0.8238\n",
      "Epoch 39/50\n",
      "80/80 [==============================] - 3s 40ms/step - loss: 0.2275 - binary_accuracy: 0.8980 - val_loss: 0.5937 - val_binary_accuracy: 0.7789\n",
      "Epoch 40/50\n",
      "80/80 [==============================] - 3s 40ms/step - loss: 0.2039 - binary_accuracy: 0.9124 - val_loss: 0.5592 - val_binary_accuracy: 0.8058\n",
      "Epoch 41/50\n",
      "80/80 [==============================] - 3s 40ms/step - loss: 0.2043 - binary_accuracy: 0.9121 - val_loss: 0.4774 - val_binary_accuracy: 0.8218\n",
      "Epoch 42/50\n",
      "80/80 [==============================] - 3s 40ms/step - loss: 0.1826 - binary_accuracy: 0.9218 - val_loss: 0.4737 - val_binary_accuracy: 0.8264\n",
      "Epoch 43/50\n",
      "80/80 [==============================] - 3s 40ms/step - loss: 0.1924 - binary_accuracy: 0.9181 - val_loss: 0.4209 - val_binary_accuracy: 0.8422\n",
      "Epoch 44/50\n",
      "80/80 [==============================] - 3s 40ms/step - loss: 0.1844 - binary_accuracy: 0.9244 - val_loss: 0.4687 - val_binary_accuracy: 0.8406\n",
      "Epoch 45/50\n",
      "80/80 [==============================] - 3s 40ms/step - loss: 0.1686 - binary_accuracy: 0.9363 - val_loss: 0.5263 - val_binary_accuracy: 0.8262\n",
      "Epoch 46/50\n",
      "80/80 [==============================] - 3s 40ms/step - loss: 0.1624 - binary_accuracy: 0.9373 - val_loss: 0.4754 - val_binary_accuracy: 0.8491\n",
      "Epoch 47/50\n",
      "80/80 [==============================] - 3s 40ms/step - loss: 0.1647 - binary_accuracy: 0.9351 - val_loss: 0.4741 - val_binary_accuracy: 0.8351\n",
      "Epoch 48/50\n",
      "80/80 [==============================] - 3s 40ms/step - loss: 0.1498 - binary_accuracy: 0.9455 - val_loss: 0.6424 - val_binary_accuracy: 0.7959\n",
      "Epoch 49/50\n",
      "80/80 [==============================] - 3s 40ms/step - loss: 0.1397 - binary_accuracy: 0.9488 - val_loss: 0.5507 - val_binary_accuracy: 0.8299\n",
      "Epoch 50/50\n",
      "80/80 [==============================] - 3s 40ms/step - loss: 0.1220 - binary_accuracy: 0.9576 - val_loss: 0.5604 - val_binary_accuracy: 0.8491\n"
     ]
    }
   ],
   "source": [
    "history = model.fit(\n",
    "    ds_train,\n",
    "    validation_data=ds_valid,\n",
    "    epochs=50,\n",
    ")"
   ]
  },
  {
   "cell_type": "markdown",
   "id": "64eb1b53",
   "metadata": {
    "papermill": {
     "duration": 0.095302,
     "end_time": "2024-12-08T22:30:03.620653",
     "exception": false,
     "start_time": "2024-12-08T22:30:03.525351",
     "status": "completed"
    },
    "tags": []
   },
   "source": [
    "And now run the cell below to plot the loss and metric curves for this training run."
   ]
  },
  {
   "cell_type": "code",
   "execution_count": 8,
   "id": "31ee4024",
   "metadata": {
    "execution": {
     "iopub.execute_input": "2024-12-08T22:30:03.813090Z",
     "iopub.status.busy": "2024-12-08T22:30:03.812175Z",
     "iopub.status.idle": "2024-12-08T22:30:04.354288Z",
     "shell.execute_reply": "2024-12-08T22:30:04.353466Z"
    },
    "papermill": {
     "duration": 0.640067,
     "end_time": "2024-12-08T22:30:04.356387",
     "exception": false,
     "start_time": "2024-12-08T22:30:03.716320",
     "status": "completed"
    },
    "tags": []
   },
   "outputs": [
    {
     "data": {
      "image/png": "[encoded data removed]",
      "text/plain": [
       "<Figure size 640x480 with 1 Axes>"
      ]
     },
     "metadata": {},
     "output_type": "display_data"
    },
    {
     "data": {
      "image/png": "[encoded data removed]",
      "text/plain": [
       "<Figure size 640x480 with 1 Axes>"
      ]
     },
     "metadata": {},
     "output_type": "display_data"
    }
   ],
   "source": [
    "import pandas as pd\n",
    "history_frame = pd.DataFrame(history.history)\n",
    "history_frame.loc[:, ['loss', 'val_loss']].plot()\n",
    "history_frame.loc[:, ['binary_accuracy', 'val_binary_accuracy']].plot();"
   ]
  },
  {
   "cell_type": "markdown",
   "id": "f4fd31cf",
   "metadata": {
    "papermill": {
     "duration": 0.096672,
     "end_time": "2024-12-08T22:30:04.550363",
     "exception": false,
     "start_time": "2024-12-08T22:30:04.453691",
     "status": "completed"
    },
    "tags": []
   },
   "source": [
    "# 3) Train the Model #\n",
    "\n",
    "How would you interpret these training curves? Did this model improve upon the model from the tutorial?"
   ]
  },
  {
   "cell_type": "code",
   "execution_count": 9,
   "id": "eb7eda7f",
   "metadata": {
    "execution": {
     "iopub.execute_input": "2024-12-08T22:30:04.753175Z",
     "iopub.status.busy": "2024-12-08T22:30:04.752569Z",
     "iopub.status.idle": "2024-12-08T22:30:04.759547Z",
     "shell.execute_reply": "2024-12-08T22:30:04.758654Z"
    },
    "lines_to_next_cell": 0,
    "papermill": {
     "duration": 0.107699,
     "end_time": "2024-12-08T22:30:04.761128",
     "exception": false,
     "start_time": "2024-12-08T22:30:04.653429",
     "status": "completed"
    },
    "tags": []
   },
   "outputs": [
    {
     "data": {
      "application/javascript": [
       "parent.postMessage({\"jupyterEvent\": \"custom.exercise_interaction\", \"data\": {\"outcomeType\": 1, \"valueTowardsCompletion\": 0.3333333333333333, \"interactionType\": 1, \"questionType\": 4, \"questionId\": \"3_Q3\", \"learnToolsVersion\": \"0.3.4\", \"failureMessage\": \"\", \"exceptionClass\": \"\", \"trace\": \"\"}}, \"*\")"
      ],
      "text/plain": [
       "<IPython.core.display.Javascript object>"
      ]
     },
     "metadata": {},
     "output_type": "display_data"
    },
    {
     "data": {
      "text/markdown": [
       "<span style=\"color:#33cc33\">Correct:</span> \n",
       "\n",
       "\n",
       "The learning curves for the model from the tutorial diverged fairly rapidly. This would indicate that it was prone to overfitting and in need of some regularization. The additional layer in our new model would make it even more prone to overfitting. However, adding some regularization with the `Dropout` layer helped prevent this. These changes improved the validation accuracy of the model by several points.\n"
      ],
      "text/plain": [
       "Correct: \n",
       "\n",
       "\n",
       "The learning curves for the model from the tutorial diverged fairly rapidly. This would indicate that it was prone to overfitting and in need of some regularization. The additional layer in our new model would make it even more prone to overfitting. However, adding some regularization with the `Dropout` layer helped prevent this. These changes improved the validation accuracy of the model by several points."
      ]
     },
     "metadata": {},
     "output_type": "display_data"
    }
   ],
   "source": [
    "# View the solution (Run this code cell to receive credit!)\n",
    "q_3.check()"
   ]
  },
  {
   "cell_type": "markdown",
   "id": "12bf31d1",
   "metadata": {
    "papermill": {
     "duration": 0.096726,
     "end_time": "2024-12-08T22:30:04.954752",
     "exception": false,
     "start_time": "2024-12-08T22:30:04.858026",
     "status": "completed"
    },
    "tags": []
   },
   "source": [
    "# Conclusion #\n",
    "\n",
    "These exercises showed you how to design a custom convolutional network to solve a specific classification problem. Though most models these days will be built on top of a pretrained base, it certain circumstances a smaller custom convnet might still be preferable -- such as with a smaller or unusual dataset or when computing resources are very limited. As you saw here, for certain problems they can perform just as well as a pretrained model.\n",
    "\n",
    "# Keep Going #\n",
    "\n",
    "Continue on to [**Lesson 6**](https://www.kaggle.com/ryanholbrook/data-augmentation), where you'll learn a widely-used technique that can give a boost to your training data: **data augmentation**."
   ]
  },
  {
   "cell_type": "markdown",
   "id": "ff19aafe",
   "metadata": {
    "papermill": {
     "duration": 0.096232,
     "end_time": "2024-12-08T22:30:05.197527",
     "exception": false,
     "start_time": "2024-12-08T22:30:05.101295",
     "status": "completed"
    },
    "tags": []
   },
   "source": [
    "---\n",
    "\n",
    "\n",
    "\n",
    "\n",
    "*Have questions or comments? Visit the [course discussion forum](https://www.kaggle.com/learn/computer-vision/discussion) to chat with other learners.*"
   ]
  }
 ],
 "metadata": {
  "jupytext": {
   "formats": "md,ipynb"
  },
  "kaggle": {
   "accelerator": "gpu",
   "dataSources": [
    {
     "datasetId": 708136,
     "sourceId": 1338830,
     "sourceType": "datasetVersion"
    },
    {
     "datasetId": 701538,
     "sourceId": 1363948,
     "sourceType": "datasetVersion"
    },
    {
     "datasetId": 878523,
     "sourceId": 1495782,
     "sourceType": "datasetVersion"
    }
   ],
   "dockerImageVersionId": 30648,
   "isGpuEnabled": true,
   "isInternetEnabled": true,
   "language": "python",
   "sourceType": "notebook"
  },
  "kernelspec": {
   "display_name": "Python 3",
   "language": "python",
   "name": "python3"
  },
  "language_info": {
   "codemirror_mode": {
    "name": "ipython",
    "version": 3
   },
   "file_extension": ".py",
   "mimetype": "text/x-python",
   "name": "python",
   "nbconvert_exporter": "python",
   "pygments_lexer": "ipython3",
   "version": "3.10.13"
  },
  "papermill": {
   "default_parameters": {},
   "duration": 207.274404,
   "end_time": "2024-12-08T22:30:08.085015",
   "environment_variables": {},
   "exception": null,
   "input_path": "__notebook__.ipynb",
   "output_path": "__notebook__.ipynb",
   "parameters": {},
   "start_time": "2024-12-08T22:26:40.810611",
   "version": "2.5.0"
  }
 },
 "nbformat": 4,
 "nbformat_minor": 5
}
